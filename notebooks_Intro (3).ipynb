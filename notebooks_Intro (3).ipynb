{
  "metadata": {
    "kernelspec": {
      "name": "python",
      "display_name": "Python (Pyodide)",
      "language": "python"
    },
    "language_info": {
      "codemirror_mode": {
        "name": "python",
        "version": 3
      },
      "file_extension": ".py",
      "mimetype": "text/x-python",
      "name": "python",
      "nbconvert_exporter": "python",
      "pygments_lexer": "ipython3",
      "version": "3.8"
    }
  },
  "nbformat_minor": 5,
  "nbformat": 4,
  "cells": [
    {
      "cell_type": "code",
      "source": "import pandas as pd",
      "metadata": {
        "trusted": true
      },
      "execution_count": 2,
      "outputs": [],
      "id": "75e14d3d-36fc-4d9f-bbb0-e5a4c10a5e04"
    },
    {
      "cell_type": "code",
      "source": "raw_data = {'regiment': ['Nighthawks', 'Nighthawks', 'Nighthawks', 'Nighthawks', 'Dragoons', 'Dragoons', 'Dragoons', 'Dragoons', 'Scouts', 'Scouts', 'Scouts', 'Scouts'], \n        'company': ['1st', '1st', '2nd', '2nd', '1st', '1st', '2nd', '2nd','1st', '1st', '2nd', '2nd'], \n        'name': ['Miller', 'Jacobson', 'Ali', 'Milner', 'Cooze', 'Jacon', 'Ryaner', 'Sone', 'Sloan', 'Piger', 'Riani', 'Ali'], \n        'preTestScore': [4, 24, 31, 2, 3, 4, 24, 31, 2, 3, 2, 3],\n        'postTestScore': [25, 94, 57, 62, 70, 25, 94, 57, 62, 70, 62, 70]}\n",
      "metadata": {},
      "execution_count": null,
      "outputs": [],
      "id": "92e9e6af-8410-4520-b4ad-2d23c250fd75"
    },
    {
      "cell_type": "code",
      "source": "regiment=pd.DataFrame(raw_data)\nregiment",
      "metadata": {
        "trusted": true
      },
      "execution_count": 4,
      "outputs": [
        {
          "execution_count": 4,
          "output_type": "execute_result",
          "data": {
            "text/plain": "      regiment company      name  preTestScore  postTestScore\n0   Nighthawks     1st    Miller             4             25\n1   Nighthawks     1st  Jacobson            24             94\n2   Nighthawks     2nd       Ali            31             57\n3   Nighthawks     2nd    Milner             2             62\n4     Dragoons     1st     Cooze             3             70\n5     Dragoons     1st     Jacon             4             25\n6     Dragoons     2nd    Ryaner            24             94\n7     Dragoons     2nd      Sone            31             57\n8       Scouts     1st     Sloan             2             62\n9       Scouts     1st     Piger             3             70\n10      Scouts     2nd     Riani             2             62\n11      Scouts     2nd       Ali             3             70",
            "text/html": "<div>\n<style scoped>\n    .dataframe tbody tr th:only-of-type {\n        vertical-align: middle;\n    }\n\n    .dataframe tbody tr th {\n        vertical-align: top;\n    }\n\n    .dataframe thead th {\n        text-align: right;\n    }\n</style>\n<table border=\"1\" class=\"dataframe\">\n  <thead>\n    <tr style=\"text-align: right;\">\n      <th></th>\n      <th>regiment</th>\n      <th>company</th>\n      <th>name</th>\n      <th>preTestScore</th>\n      <th>postTestScore</th>\n    </tr>\n  </thead>\n  <tbody>\n    <tr>\n      <th>0</th>\n      <td>Nighthawks</td>\n      <td>1st</td>\n      <td>Miller</td>\n      <td>4</td>\n      <td>25</td>\n    </tr>\n    <tr>\n      <th>1</th>\n      <td>Nighthawks</td>\n      <td>1st</td>\n      <td>Jacobson</td>\n      <td>24</td>\n      <td>94</td>\n    </tr>\n    <tr>\n      <th>2</th>\n      <td>Nighthawks</td>\n      <td>2nd</td>\n      <td>Ali</td>\n      <td>31</td>\n      <td>57</td>\n    </tr>\n    <tr>\n      <th>3</th>\n      <td>Nighthawks</td>\n      <td>2nd</td>\n      <td>Milner</td>\n      <td>2</td>\n      <td>62</td>\n    </tr>\n    <tr>\n      <th>4</th>\n      <td>Dragoons</td>\n      <td>1st</td>\n      <td>Cooze</td>\n      <td>3</td>\n      <td>70</td>\n    </tr>\n    <tr>\n      <th>5</th>\n      <td>Dragoons</td>\n      <td>1st</td>\n      <td>Jacon</td>\n      <td>4</td>\n      <td>25</td>\n    </tr>\n    <tr>\n      <th>6</th>\n      <td>Dragoons</td>\n      <td>2nd</td>\n      <td>Ryaner</td>\n      <td>24</td>\n      <td>94</td>\n    </tr>\n    <tr>\n      <th>7</th>\n      <td>Dragoons</td>\n      <td>2nd</td>\n      <td>Sone</td>\n      <td>31</td>\n      <td>57</td>\n    </tr>\n    <tr>\n      <th>8</th>\n      <td>Scouts</td>\n      <td>1st</td>\n      <td>Sloan</td>\n      <td>2</td>\n      <td>62</td>\n    </tr>\n    <tr>\n      <th>9</th>\n      <td>Scouts</td>\n      <td>1st</td>\n      <td>Piger</td>\n      <td>3</td>\n      <td>70</td>\n    </tr>\n    <tr>\n      <th>10</th>\n      <td>Scouts</td>\n      <td>2nd</td>\n      <td>Riani</td>\n      <td>2</td>\n      <td>62</td>\n    </tr>\n    <tr>\n      <th>11</th>\n      <td>Scouts</td>\n      <td>2nd</td>\n      <td>Ali</td>\n      <td>3</td>\n      <td>70</td>\n    </tr>\n  </tbody>\n</table>\n</div>"
          },
          "metadata": {}
        }
      ],
      "id": "542f1f9e-abf8-49ce-b694-0d33aa5810ef"
    },
    {
      "cell_type": "code",
      "source": "mean_preTestScore = regiment.groupby('regiment')['preTestScore'].mean()\nprint(mean_preTestScore)",
      "metadata": {
        "trusted": true
      },
      "execution_count": 5,
      "outputs": [
        {
          "name": "stdout",
          "text": "regiment\nDragoons      15.50\nNighthawks    15.25\nScouts         2.50\nName: preTestScore, dtype: float64\n",
          "output_type": "stream"
        }
      ],
      "id": "30b5dbac-c059-446e-ba0f-e9b17a8dfc7b"
    },
    {
      "cell_type": "code",
      "source": "stats_by_company = regiment.groupby('company')['preTestScore', 'postTestScore'].describe()\nprint(stats_by_company)",
      "metadata": {
        "trusted": true
      },
      "execution_count": 6,
      "outputs": [
        {
          "name": "stderr",
          "text": "<ipython-input-6-f830712f24b7>:1: FutureWarning: Indexing with multiple keys (implicitly converted to a tuple of keys) will be deprecated, use a list instead.\n  stats_by_company = regiment.groupby('company')['preTestScore', 'postTestScore'].describe()\n",
          "output_type": "stream"
        },
        {
          "name": "stdout",
          "text": "        preTestScore                                                      \\\n               count       mean        std  min   25%   50%    75%   max   \ncompany                                                                    \n1st              6.0   6.666667   8.524475  2.0  3.00   3.5   4.00  24.0   \n2nd              6.0  15.500000  14.652645  2.0  2.25  13.5  29.25  31.0   \n\n        postTestScore                                                       \n                count       mean        std   min    25%   50%   75%   max  \ncompany                                                                     \n1st               6.0  57.666667  27.485754  25.0  34.25  66.0  70.0  94.0  \n2nd               6.0  67.000000  14.057027  57.0  58.25  62.0  68.0  94.0  \n",
          "output_type": "stream"
        }
      ],
      "id": "db794e1b-770e-4ac2-be42-8802212228bd"
    },
    {
      "cell_type": "code",
      "source": "mean_preTestScore_by_company = regiment.groupby('company')['preTestScore'].mean()\nprint(mean_preTestScore_by_company)",
      "metadata": {
        "trusted": true
      },
      "execution_count": 7,
      "outputs": [
        {
          "name": "stdout",
          "text": "company\n1st     6.666667\n2nd    15.500000\nName: preTestScore, dtype: float64\n",
          "output_type": "stream"
        }
      ],
      "id": "0bcded6a-4268-4bd3-bc52-70c68418d797"
    },
    {
      "cell_type": "code",
      "source": "mean_preTestScore_by_regiment_company = regiment.groupby(['regiment', 'company'])['preTestScore'].mean()\nprint(mean_preTestScore_by_regiment_company)",
      "metadata": {
        "trusted": true
      },
      "execution_count": 8,
      "outputs": [
        {
          "name": "stdout",
          "text": "regiment    company\nDragoons    1st         3.5\n            2nd        27.5\nNighthawks  1st        14.0\n            2nd        16.5\nScouts      1st         2.5\n            2nd         2.5\nName: preTestScore, dtype: float64\n",
          "output_type": "stream"
        }
      ],
      "id": "1c2706c1-7baa-4fc9-8c34-c5bcaf29c0d1"
    },
    {
      "cell_type": "code",
      "source": "mean_postTestScore_by_regiment_company = regiment.groupby(['regiment', 'company'])['postTestScore'].mean()\nprint(mean_postTestScore_by_regiment_company)",
      "metadata": {
        "trusted": true
      },
      "execution_count": 9,
      "outputs": [
        {
          "name": "stdout",
          "text": "regiment    company\nDragoons    1st        47.5\n            2nd        75.5\nNighthawks  1st        59.5\n            2nd        59.5\nScouts      1st        66.0\n            2nd        66.0\nName: postTestScore, dtype: float64\n",
          "output_type": "stream"
        }
      ],
      "id": "cf83d886-a48d-4e70-9df1-a7490f5beec7"
    },
    {
      "cell_type": "code",
      "source": "grouped_data = regiment.groupby(['regiment', 'company'])",
      "metadata": {
        "trusted": true
      },
      "execution_count": 10,
      "outputs": [],
      "id": "dc1be37d-f744-42bb-b988-4d590cfc63c7"
    },
    {
      "cell_type": "code",
      "source": "mean_values = grouped_data.mean()\nprint(mean_values)",
      "metadata": {
        "trusted": true
      },
      "execution_count": 11,
      "outputs": [
        {
          "name": "stderr",
          "text": "<ipython-input-11-c184461802f9>:1: FutureWarning: The default value of numeric_only in DataFrameGroupBy.mean is deprecated. In a future version, numeric_only will default to False. Either specify numeric_only or select only columns which should be valid for the function.\n  mean_values = grouped_data.mean()\n",
          "output_type": "stream"
        },
        {
          "name": "stdout",
          "text": "                    preTestScore  postTestScore\nregiment   company                             \nDragoons   1st               3.5           47.5\n           2nd              27.5           75.5\nNighthawks 1st              14.0           59.5\n           2nd              16.5           59.5\nScouts     1st               2.5           66.0\n           2nd               2.5           66.0\n",
          "output_type": "stream"
        }
      ],
      "id": "7f6a4985-fab0-4507-a6e8-745946ca8267"
    },
    {
      "cell_type": "code",
      "source": "observation_counts = regiment.groupby(['regiment', 'company']).size()\nprint(observation_counts)",
      "metadata": {
        "trusted": true
      },
      "execution_count": 12,
      "outputs": [
        {
          "name": "stdout",
          "text": "regiment    company\nDragoons    1st        2\n            2nd        2\nNighthawks  1st        2\n            2nd        2\nScouts      1st        2\n            2nd        2\ndtype: int64\n",
          "output_type": "stream"
        }
      ],
      "id": "c93b46ec-6de8-4fff-8124-a1653312a359"
    },
    {
      "cell_type": "code",
      "source": "",
      "metadata": {
        "trusted": true
      },
      "execution_count": null,
      "outputs": [],
      "id": "9a23c18b-afe6-4784-948b-8006ef344837"
    }
  ]
}